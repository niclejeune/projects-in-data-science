{
 "cells": [
  {
   "cell_type": "code",
   "execution_count": 3,
   "id": "b334dbd1-154e-40b8-a5b4-f5625e45db90",
   "metadata": {
    "tags": []
   },
   "outputs": [
    {
     "name": "stdout",
     "output_type": "stream",
     "text": [
      "                     img_id  cancer_likelihood  cancer\n",
      "0      PAT_104_1754_276.png           0.662003       0\n",
      "1      PAT_104_1755_320.png           0.652769       0\n",
      "2       PAT_108_162_526.png           0.609628       0\n",
      "3       PAT_108_162_660.png           0.585026       0\n",
      "4       PAT_108_424_944.png           0.539339       0\n",
      "...                     ...                ...     ...\n",
      "1267  PAT_2066_4417_201.png           0.524420       0\n",
      "1268  PAT_2085_4506_726.png           0.491896       0\n",
      "1269  PAT_2092_4537_438.png           0.528571       0\n",
      "1270  PAT_2152_4781_332.png           0.248778       0\n",
      "1271  PAT_2155_4784_483.png           0.254867       0\n",
      "\n",
      "[1272 rows x 3 columns]\n"
     ]
    }
   ],
   "source": [
    "import pandas as pd\n",
    "import joblib\n",
    "\n",
    "def load_and_prepare_data(features_path: str, include_labels: bool = False) -> pd.DataFrame:\n",
    "    \"\"\"\n",
    "    Load and preprocess data from a specified file path.\n",
    "\n",
    "    Parameters:\n",
    "        features_path (str): The path to the features CSV file.\n",
    "        include_labels (bool): Whether to include labels in the returned DataFrame.\n",
    "\n",
    "    Returns:\n",
    "        pd.DataFrame: The loaded and prepared DataFrame.\n",
    "    \"\"\"\n",
    "    # Load data\n",
    "    data = pd.read_csv(features_path)\n",
    "    # Assume the features to use are defined here (ensure these are the same features used in training)\n",
    "    features = ['hue', 'saturation', 'value', 'hsv_uniformity', 'compactness_score', 'Vertical Asymmetry_mean', 'Horizontal Asymmetry_mean']\n",
    "    if include_labels:\n",
    "        return data[['img_id'] + features + ['cancer']]\n",
    "    else:\n",
    "        return data[['img_id'] + features]\n",
    "\n",
    "def predict_cancer_likelihood(model_path: str, data_path: str) -> pd.DataFrame:\n",
    "    \"\"\"\n",
    "    Load a trained model and data, predict cancer likelihood scores, and include cancer labels.\n",
    "\n",
    "    Parameters:\n",
    "        model_path (str): The path to the trained model file.\n",
    "        data_path (str): The path to the data CSV file.\n",
    "\n",
    "    Returns:\n",
    "        pd.DataFrame: A DataFrame with image IDs, cancer likelihood scores, and cancer labels.\n",
    "    \"\"\"\n",
    "    # Load the trained model\n",
    "    model = joblib.load(model_path)\n",
    "\n",
    "    # Load and prepare the data\n",
    "    data = load_and_prepare_data(data_path, include_labels=True)\n",
    "\n",
    "    # Extract image IDs and features\n",
    "    img_ids = data['img_id']\n",
    "    features = data.drop(['img_id', 'cancer'], axis=1)\n",
    "\n",
    "    # Predict probabilities for class 1 (cancer likely)\n",
    "    predictions = model.predict_proba(features)[:, 1]\n",
    "\n",
    "    # Create a DataFrame with image IDs, predictions, and cancer labels\n",
    "    results = pd.DataFrame({\n",
    "        'img_id': img_ids,\n",
    "        'cancer_likelihood': predictions,\n",
    "        'cancer': data['cancer']\n",
    "    })\n",
    "\n",
    "    return results\n",
    "\n",
    "# Example usage\n",
    "model_path = 'features/training/final_model'\n",
    "data_path = 'features/features.csv'\n",
    "results = predict_cancer_likelihood(model_path, data_path)\n",
    "print(results)\n"
   ]
  },
  {
   "cell_type": "code",
   "execution_count": 4,
   "id": "72d89864-6c69-4ead-8932-1f4733c8a9b9",
   "metadata": {
    "tags": []
   },
   "outputs": [
    {
     "name": "stdout",
     "output_type": "stream",
     "text": [
      "Overall Accuracy (Threshold > 0.50): 67.06%\n"
     ]
    }
   ],
   "source": [
    "def calculate_and_print_accuracy(results: pd.DataFrame) -> None:\n",
    "    \"\"\"\n",
    "    Calculates and prints the overall accuracy of predictions where the likelihood > 0.50 corresponds to actual cancer cases.\n",
    "\n",
    "    Parameters:\n",
    "        results (pd.DataFrame): A DataFrame with columns 'cancer_likelihood' and 'cancer' indicating predicted probabilities and actual outcomes.\n",
    "    \"\"\"\n",
    "    # Convert probabilities to binary predictions based on the threshold\n",
    "    results['predicted_cancer'] = (results['cancer_likelihood'] > 0.50).astype(int)\n",
    "    \n",
    "    # Calculate the accuracy: the proportion of correct predictions\n",
    "    accuracy = (results['predicted_cancer'] == results['cancer']).mean()\n",
    "    \n",
    "    print(f\"Overall Accuracy (Threshold > 0.50): {accuracy:.2%}\")\n",
    "\n",
    "# Example usage (to be added where you have your results DataFrame ready)\n",
    "# calculate_and_print_accuracy(results)\n",
    "calculate_and_print_accuracy(results)"
   ]
  }
 ],
 "metadata": {
  "kernelspec": {
   "display_name": "Python 3 (ipykernel)",
   "language": "python",
   "name": "python3"
  },
  "language_info": {
   "codemirror_mode": {
    "name": "ipython",
    "version": 3
   },
   "file_extension": ".py",
   "mimetype": "text/x-python",
   "name": "python",
   "nbconvert_exporter": "python",
   "pygments_lexer": "ipython3",
   "version": "3.11.5"
  }
 },
 "nbformat": 4,
 "nbformat_minor": 5
}
