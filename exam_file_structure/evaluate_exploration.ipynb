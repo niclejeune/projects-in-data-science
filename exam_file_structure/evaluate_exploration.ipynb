{
 "cells": [
  {
   "cell_type": "code",
   "execution_count": 10,
   "id": "7ea9df33-f1a8-4fda-9a1d-4df2d9da3d27",
   "metadata": {
    "tags": []
   },
   "outputs": [],
   "source": [
    "import os\n",
    "import matplotlib.pyplot as plt\n",
    "from typing import Optional\n",
    "\n",
    "def save_or_show_plot(output_file: Optional[str]) -> None:\n",
    "    \"\"\"\n",
    "    Saves the plot to a PDF file if an output file path is provided, or displays the plot on screen if no file path is specified.\n",
    "    \n",
    "    Parameters:\n",
    "        output_file (Optional[str]): The file path where the plot will be saved as a PDF. If None, the plot will be displayed using plt.show().\n",
    "    \n",
    "    Returns:\n",
    "        None\n",
    "    \"\"\"\n",
    "    if output_file is not None:\n",
    "        # Ensure the directory exists\n",
    "        os.makedirs(os.path.dirname(output_file), exist_ok=True)\n",
    "        \n",
    "        # Save the figure as a PDF\n",
    "        plt.savefig(output_file)\n",
    "        plt.close()  # Close the plot to free up memory\n",
    "    else:\n",
    "        # Display the plot\n",
    "        plt.show()\n"
   ]
  },
  {
   "cell_type": "code",
   "execution_count": 11,
   "id": "c03a1ac6-0aeb-4d7e-a56b-78f795dbe5aa",
   "metadata": {
    "tags": []
   },
   "outputs": [],
   "source": [
    "import matplotlib.pyplot as plt\n",
    "import seaborn as sns\n",
    "import pandas as pd\n",
    "import os\n",
    "from typing import Optional\n",
    "\n",
    "def plot_heatmaps(results: pd.DataFrame, output_file: Optional[str] = \"features/training/graphs/heatmaps.pdf\") -> None:\n",
    "    \"\"\"\n",
    "    Generates a series of heatmaps from a DataFrame containing model performance results, specifically\n",
    "    plotting the accuracy of models across various configurations of 'max_depth' and 'n_estimators', grouped\n",
    "    by combinations of 'min_samples_split', 'min_samples_leaf', and 'max_features'.\n",
    "\n",
    "    Each heatmap corresponds to a specific combination of 'min_samples_split', 'min_samples_leaf',\n",
    "    and 'max_features', showing how the accuracy varies with 'max_depth' and 'n_estimators'.\n",
    "\n",
    "    Parameters:\n",
    "        results (pd.DataFrame): A DataFrame containing the columns 'min_samples_split', 'min_samples_leaf',\n",
    "                                'max_features', 'max_depth', 'n_estimators', and 'accuracy' that records\n",
    "                                the accuracy of various RandomForest configurations.\n",
    "        output_file (Optional[str]): The filename where the plot PDF will be saved. Defaults to 'features/training/graphs/heatmaps.pdf'.\n",
    "\n",
    "    Returns:\n",
    "        None: This function does not return any value but saves the heatmaps to a PDF file and displays them.\n",
    "    \"\"\"\n",
    "    # Filter unique parameters for grouping\n",
    "    unique_splits = results['min_samples_split'].unique()\n",
    "    unique_leaves = results['min_samples_leaf'].unique()\n",
    "    unique_features = results['max_features'].unique()\n",
    "\n",
    "    # Prepare subplot grid layout\n",
    "    num_plots = len(unique_splits) * len(unique_leaves) * len(unique_features)\n",
    "    num_cols = 2  # Define number of columns in grid layout\n",
    "    num_rows = (num_plots + num_cols - 1) // num_cols  # Calculate needed rows\n",
    "    fig, axes = plt.subplots(num_rows, num_cols, figsize=(5 * num_cols, 5 * num_rows))\n",
    "\n",
    "    # Ensure axes is a 2D array for easier indexing\n",
    "    if num_rows == 1:\n",
    "        axes = np.array([axes])\n",
    "\n",
    "    idx = 0\n",
    "    for split in unique_splits:\n",
    "        for leaf in unique_leaves:\n",
    "            for feature in unique_features:\n",
    "                ax = axes[idx // num_cols, idx % num_cols]\n",
    "                # Filter results for specific parameters\n",
    "                subset = results[(results['min_samples_split'] == split) &\n",
    "                                 (results['min_samples_leaf'] == leaf) &\n",
    "                                 (results['max_features'] == feature)]\n",
    "                # Pivot table for heatmap\n",
    "                pivot_table = subset.pivot_table(values='accuracy', index='max_depth', columns='n_estimators')\n",
    "                sns.heatmap(pivot_table, fmt=\".2f\", cmap='viridis', ax=ax)\n",
    "                ax.set_title(f'Split: {split}, Leaf: {leaf}, Feature: {feature}')\n",
    "                ax.set_xlabel('Number of Estimators')\n",
    "                ax.set_ylabel('Max Depth')\n",
    "                idx += 1\n",
    "\n",
    "    # Adjust layout\n",
    "    plt.tight_layout()\n",
    "    \n",
    "    # Output plot\n",
    "    save_or_show_plot(output_file)\n"
   ]
  },
  {
   "cell_type": "code",
   "execution_count": 53,
   "id": "6d5220ca-f0f4-4eb0-afa3-6c5fc8b73e85",
   "metadata": {
    "tags": []
   },
   "outputs": [],
   "source": [
    "import matplotlib.pyplot as plt\n",
    "import seaborn as sns\n",
    "import pandas as pd\n",
    "from typing import Optional\n",
    "\n",
    "def plot_parameter_effects(results: pd.DataFrame, output_file: Optional[str] = \"features/training/graphs/boxplots.pdf\") -> None:\n",
    "    \"\"\"\n",
    "    Create box-and-whisker plots for each parameter against model accuracy. Box-and-whisker plots\n",
    "    are used to show the distribution of the accuracy scores across different values of each parameter,\n",
    "    providing insights into the median, quartiles, and outliers of the distributions.\n",
    "\n",
    "    Parameters:\n",
    "        results (pd.DataFrame): DataFrame containing model parameters and accuracies.\n",
    "        output_file (Optional[str]): The path where the plot will be saved as a PDF file.\n",
    "\n",
    "    Returns:\n",
    "        None: This function does not return any value but saves the boxplots to a PDF file and displays them.\n",
    "    \"\"\"\n",
    "    parameters = [col for col in results.columns if col != 'accuracy']\n",
    "    n_plots = len(parameters)\n",
    "    fig, axes = plt.subplots(nrows=n_plots, ncols=1, figsize=(10, 5 * n_plots))\n",
    "    \n",
    "    if n_plots == 1:\n",
    "        axes = [axes]  # Make it iterable if there is only one plot\n",
    "    \n",
    "    for param, ax in zip(parameters, axes):\n",
    "        # Use seaborn to create a box plot for each parameter\n",
    "        sns.boxplot(data=results, x=param, y='accuracy', ax=ax)\n",
    "        ax.set_title(f'Model Accuracy Distribution by {param}')\n",
    "        ax.set_xlabel(param)\n",
    "        ax.set_ylabel('Accuracy')\n",
    "        ax.grid(True)\n",
    "\n",
    "    # Adjust layout\n",
    "    plt.tight_layout()\n",
    "    \n",
    "    # Output plot\n",
    "    save_or_show_plot(output_file)\n"
   ]
  },
  {
   "cell_type": "code",
   "execution_count": 27,
   "id": "655066b5-94ce-462f-b32c-599fa4881615",
   "metadata": {
    "tags": []
   },
   "outputs": [],
   "source": [
    "import matplotlib.pyplot as plt\n",
    "import seaborn as sns\n",
    "import pandas as pd\n",
    "import numpy as np\n",
    "from typing import Optional\n",
    "\n",
    "def plot_accuracy_vs_estimators(results: pd.DataFrame, output_file: Optional[str] = \"features/training/graphs/accuracy_vs_estimators.pdf\") -> None:\n",
    "    \"\"\"\n",
    "    Plots a scatter plot of model accuracy against the logarithm of the number of estimators ('n_estimators') used in the models,\n",
    "    including a regression line to indicate the trend. The x-axis (number of estimators) is displayed on a logarithmic scale.\n",
    "\n",
    "    Parameters:\n",
    "        results (pd.DataFrame): DataFrame containing at least 'n_estimators' and 'accuracy'.\n",
    "        output_file (Optional[str]): The path where the plot will be saved as a PDF file.\n",
    "\n",
    "    Returns:\n",
    "        None\n",
    "    \"\"\"\n",
    "    plt.figure(figsize=(10, 6))\n",
    "    # Create a copy of the DataFrame to ensure the original is not modified\n",
    "    results_copy = results.copy()\n",
    "    # Adjusting the x-axis to be logarithmic by adding a new column to the copy\n",
    "    results_copy['log_n_estimators'] = np.log10(results_copy['n_estimators'])\n",
    "\n",
    "    # Create scatter plot with regression line on the copied data\n",
    "    sns.regplot(x='log_n_estimators', y='accuracy', data=results_copy, scatter_kws={'alpha':0.5}, line_kws={'color': 'red'})\n",
    "    plt.title('Model Accuracy vs. Log of Number of Estimators')\n",
    "    plt.xlabel('Log of Number of Estimators (log10)')\n",
    "    plt.ylabel('Accuracy')\n",
    "    plt.grid(True)\n",
    "    \n",
    "    # Adjust layout\n",
    "    plt.tight_layout()\n",
    "    \n",
    "    # Use the utility function to save or display the plot\n",
    "    save_or_show_plot(output_file)"
   ]
  },
  {
   "cell_type": "code",
   "execution_count": 35,
   "id": "bef6f441-e5c8-4e79-8031-55f2ae27e92b",
   "metadata": {
    "tags": []
   },
   "outputs": [],
   "source": [
    "import pandas as pd\n",
    "from typing import Dict, List\n",
    "\n",
    "def select_best_parameters(results: pd.DataFrame) -> Dict[str, Dict[str, float]]:\n",
    "    \"\"\"\n",
    "    Selects the best parameters for models based on different statistics of the 'accuracy' column:\n",
    "    highest median, mean, first quartile (Q1), third quartile (Q3), and maximum accuracy.\n",
    "\n",
    "    Parameters:\n",
    "        results (pd.DataFrame): A DataFrame containing model parameters and their corresponding 'accuracy'.\n",
    "\n",
    "    Returns:\n",
    "        Dict[str, Dict[str, float]]: A dictionary where each key is a statistic ('median', 'mean', 'Q1', 'Q3', 'max')\n",
    "                                     and the value is a dictionary of the parameters that maximize that statistic.\n",
    "    \"\"\"\n",
    "    best_params = {\n",
    "        'median': {},\n",
    "        'mean': {},\n",
    "        'Q1': {},\n",
    "        'Q3': {},\n",
    "        'max': {}\n",
    "    }\n",
    "\n",
    "    # Exclude 'accuracy' from parameter names\n",
    "    parameter_names = results.columns.drop('accuracy')\n",
    "\n",
    "    for stat in best_params.keys():\n",
    "        # Group by each parameter and calculate the required statistic of 'accuracy'\n",
    "        for param in parameter_names:\n",
    "            grouped = results.groupby(param)['accuracy'].agg(['median', 'mean', lambda x: x.quantile(0.25), lambda x: x.quantile(0.75), 'max']).rename(columns={'<lambda_0>': 'Q1', '<lambda_1>': 'Q3'})\n",
    "            if stat in ['median', 'mean', 'max']:\n",
    "                best_value = grouped[stat].idxmax()\n",
    "            else:\n",
    "                best_value = grouped[stat].idxmax()\n",
    "            best_params[stat][param] = best_value\n",
    "\n",
    "    return best_params\n"
   ]
  },
  {
   "cell_type": "code",
   "execution_count": 28,
   "id": "e954cce1-8e45-4099-b09b-2d0bed4cca0f",
   "metadata": {
    "tags": []
   },
   "outputs": [],
   "source": [
    "# Path to the CSV file\n",
    "csv_path = \"features/training/results.csv\"\n",
    "\n",
    "# Load the data into a DataFrame\n",
    "df = pd.read_csv(csv_path)"
   ]
  },
  {
   "cell_type": "code",
   "execution_count": 6,
   "id": "055af385-6eb7-42f0-882f-02b179a77ab7",
   "metadata": {
    "tags": []
   },
   "outputs": [
    {
     "name": "stdout",
     "output_type": "stream",
     "text": [
      "      max_depth max_features  min_samples_leaf  min_samples_split  \\\n",
      "718           3         sqrt                 1                  5   \n",
      "756           3         sqrt                 2                  2   \n",
      "1002          3         log2                 4                  5   \n",
      "5325         16         log2                 1                  5   \n",
      "708           3         sqrt                 1                  5   \n",
      "1857          6         sqrt                 4                  5   \n",
      "928           3         log2                 2                  2   \n",
      "1044          4         sqrt                 1                  2   \n",
      "1204          4         log2                 1                  2   \n",
      "1074          4         sqrt                 1                 10   \n",
      "\n",
      "      n_estimators  accuracy  \n",
      "718             16  0.709804  \n",
      "756             16  0.705882  \n",
      "1002            15  0.698039  \n",
      "5325             6  0.698039  \n",
      "708              6  0.698039  \n",
      "1857            15  0.698039  \n",
      "928             50  0.694118  \n",
      "1044          1000  0.694118  \n",
      "1204             8  0.694118  \n",
      "1074            11  0.694118  \n"
     ]
    }
   ],
   "source": [
    "# Sort the DataFrame by accuracy in descending order and take the top 10\n",
    "top_models = df.sort_values(by='accuracy', ascending=False).head(10)\n",
    "\n",
    "# Display the top 10 models and their parameters\n",
    "print(top_models)"
   ]
  },
  {
   "cell_type": "code",
   "execution_count": 54,
   "id": "6dcd5962-ebc7-4b18-b26f-1baf003f4b4f",
   "metadata": {
    "tags": []
   },
   "outputs": [],
   "source": [
    "# plot_heatmaps(df)\n",
    "plot_parameter_effects(df)\n",
    "# plot_accuracy_vs_estimators(df)"
   ]
  },
  {
   "cell_type": "code",
   "execution_count": 36,
   "id": "1568042b-837a-4af7-a9be-107315949727",
   "metadata": {
    "tags": []
   },
   "outputs": [
    {
     "name": "stdout",
     "output_type": "stream",
     "text": [
      "{'median': {'max_depth': 3, 'max_features': 'log2', 'min_samples_leaf': 4, 'min_samples_split': 10, 'n_estimators': 1000}, 'mean': {'max_depth': 3, 'max_features': 'log2', 'min_samples_leaf': 4, 'min_samples_split': 10, 'n_estimators': 1000}, 'Q1': {'max_depth': 3, 'max_features': 'log2', 'min_samples_leaf': 4, 'min_samples_split': 5, 'n_estimators': 1000}, 'Q3': {'max_depth': 3, 'max_features': 'log2', 'min_samples_leaf': 4, 'min_samples_split': 2, 'n_estimators': 1000}, 'max': {'max_depth': 3, 'max_features': 'sqrt', 'min_samples_leaf': 1, 'min_samples_split': 5, 'n_estimators': 16}}\n"
     ]
    }
   ],
   "source": [
    "best_params = select_best_parameters(df)\n",
    "print(best_params)"
   ]
  },
  {
   "cell_type": "code",
   "execution_count": 47,
   "id": "361041d7-4661-401d-81f5-81ca83a3936f",
   "metadata": {
    "tags": []
   },
   "outputs": [
    {
     "name": "stdout",
     "output_type": "stream",
     "text": [
      "{'median': [0.6666666666666666, 0.6392156862745098, 0.615686274509804, 0.6313725490196078, 0.5843137254901961, 0.615686274509804, 0.6235294117647059, 0.6196078431372549, 0.615686274509804, 0.6235294117647059, 0.6588235294117647, 0.5843137254901961, 0.615686274509804, 0.6745098039215687, 0.5725490196078431, 0.6078431372549019, 0.6784313725490196, 0.6352941176470588, 0.5843137254901961, 0.5882352941176471], 'mean': [0.6745098039215687, 0.6392156862745098, 0.6235294117647059, 0.6274509803921569, 0.5882352941176471, 0.615686274509804, 0.6078431372549019, 0.6078431372549019, 0.615686274509804, 0.6313725490196078, 0.6588235294117647, 0.5843137254901961, 0.6078431372549019, 0.6784313725490196, 0.5803921568627451, 0.6039215686274509, 0.6705882352941176, 0.6392156862745098, 0.5843137254901961, 0.592156862745098], 'Q1': [0.6784313725490196, 0.6431372549019608, 0.615686274509804, 0.6352941176470588, 0.5882352941176471, 0.615686274509804, 0.6, 0.611764705882353, 0.615686274509804, 0.6352941176470588, 0.6588235294117647, 0.592156862745098, 0.6039215686274509, 0.6823529411764706, 0.5725490196078431, 0.6078431372549019, 0.6666666666666666, 0.6352941176470588, 0.5882352941176471, 0.6], 'Q3': [0.6705882352941176, 0.6352941176470588, 0.6235294117647059, 0.6431372549019608, 0.5764705882352941, 0.6196078431372549, 0.6078431372549019, 0.6235294117647059, 0.611764705882353, 0.6352941176470588, 0.6549019607843137, 0.5882352941176471, 0.6078431372549019, 0.6666666666666666, 0.5764705882352941, 0.596078431372549, 0.6745098039215687, 0.6392156862745098, 0.5882352941176471, 0.592156862745098], 'max': [0.6196078431372549, 0.6392156862745098, 0.611764705882353, 0.611764705882353, 0.5647058823529412, 0.6313725490196078, 0.6235294117647059, 0.6235294117647059, 0.6039215686274509, 0.615686274509804, 0.6274509803921569, 0.5882352941176471, 0.6196078431372549, 0.6431372549019608, 0.5725490196078431, 0.592156862745098, 0.6509803921568628, 0.611764705882353, 0.5843137254901961, 0.5764705882352941]}\n"
     ]
    }
   ],
   "source": [
    "import pandas as pd\n",
    "import numpy as np\n",
    "from sklearn.model_selection import train_test_split, ParameterGrid\n",
    "from sklearn.ensemble import RandomForestClassifier\n",
    "from sklearn.metrics import accuracy_score\n",
    "import joblib\n",
    "from typing import List, Dict, Any, Tuple\n",
    "\n",
    "def load_and_prepare_data(features_path: str) -> pd.DataFrame:\n",
    "    \"\"\"\n",
    "    Load and preprocess data from a specified file path.\n",
    "    \"\"\"\n",
    "    data = pd.read_csv(features_path)\n",
    "    features = ['hue', 'saturation', 'value', 'hsv_uniformity', 'compactness_score', 'Vertical Asymmetry_mean', 'Horizontal Asymmetry_mean']\n",
    "    target = 'cancer'\n",
    "    return data[features + [target]]\n",
    "\n",
    "def evaluate_models(data: pd.DataFrame, best_params: Dict[str, Dict[str, Any]], random_state: int = 42) -> Dict[str, List[float]]:\n",
    "    \"\"\"\n",
    "    Evaluates models based on provided best parameters and returns their performance.\n",
    "    \"\"\"\n",
    "    results = {}\n",
    "    # Iterate through each set of parameters (by statistic)\n",
    "    for stat, params in best_params.items():\n",
    "        model_accuracies = []\n",
    "        for i in range(20):  # 20 different training/testing splits\n",
    "            X_train, X_test, y_train, y_test = train_test_split(data.drop('cancer', axis=1), data['cancer'], test_size=0.20, random_state=random_state + i)\n",
    "            model = RandomForestClassifier(**params)\n",
    "            model.fit(X_train, y_train)\n",
    "            accuracy = accuracy_score(y_test, model.predict(X_test))\n",
    "            model_accuracies.append(accuracy)\n",
    "        results[stat] = model_accuracies\n",
    "    return results\n",
    "\n",
    "# Assume 'best_params' is loaded or defined earlier in the notebook\n",
    "# best_params example format: {'median': [{'max_depth': 10}], 'mean': [{'n_estimators': 100}]}\n",
    "\n",
    "# Path to the dataset\n",
    "features_path = \"features/features.csv\"\n",
    "\n",
    "# Load and preprocess data\n",
    "data = load_and_prepare_data(features_path)\n",
    "\n",
    "# Evaluate models\n",
    "evaluation_results = evaluate_models(data, best_params)\n",
    "\n",
    "# Output or further analysis can go here, for example:\n",
    "print(evaluation_results)"
   ]
  },
  {
   "cell_type": "code",
   "execution_count": 45,
   "id": "7ec66ed4-5061-4a32-b4fd-2c7a12cd8310",
   "metadata": {
    "tags": []
   },
   "outputs": [],
   "source": [
    "import matplotlib.pyplot as plt\n",
    "import seaborn as sns\n",
    "import pandas as pd\n",
    "from typing import Dict, Optional\n",
    "\n",
    "def plot_evaluation_results_boxplot(evaluation_results: Dict[str, List[float]], output_file: Optional[str] = None) -> None:\n",
    "    \"\"\"\n",
    "    Plots box plots for model evaluation results, showing the distribution of accuracies for different\n",
    "    statistical parameter optimization strategies (e.g., median, mean, Q1, Q3, max).\n",
    "\n",
    "    Parameters:\n",
    "        evaluation_results (Dict[str, List[float]]): A dictionary where keys are the statistics used to\n",
    "                                                     optimize parameters and values are lists of accuracies.\n",
    "        output_file (Optional[str]): The path where the plot will be saved as a PDF file. If None, the plot\n",
    "                                     will be shown on screen.\n",
    "\n",
    "    Returns:\n",
    "        None\n",
    "    \"\"\"\n",
    "    # Create a DataFrame for easier plotting with seaborn\n",
    "    data = {key: pd.Series(value) for key, value in evaluation_results.items()}\n",
    "    df = pd.DataFrame(data)\n",
    "\n",
    "    plt.figure(figsize=(12, 6))\n",
    "    sns.boxplot(data=df)\n",
    "    plt.title('Distribution of Model Accuracies by Parameter Optimization Strategy')\n",
    "    plt.xlabel('Optimization Strategy')\n",
    "    plt.ylabel('Accuracy')\n",
    "    plt.grid(True)\n",
    "\n",
    "    # Use utility function to save or display the plot\n",
    "    save_or_show_plot(output_file)"
   ]
  },
  {
   "cell_type": "code",
   "execution_count": 48,
   "id": "8ad8b0b7-435a-4d12-a986-32917ecd1506",
   "metadata": {
    "tags": []
   },
   "outputs": [
    {
     "data": {
      "image/png": "[encoded data removed]",
      "text/plain": [
       "<Figure size 1200x600 with 1 Axes>"
      ]
     },
     "metadata": {},
     "output_type": "display_data"
    }
   ],
   "source": [
    "plot_evaluation_results_boxplot(evaluation_results)"
   ]
  },
  {
   "cell_type": "code",
   "execution_count": 49,
   "id": "ccc2695c-95b9-4848-9fd4-7938784c5c43",
   "metadata": {
    "tags": []
   },
   "outputs": [],
   "source": [
    "from typing import Dict, List, Tuple, Any\n",
    "\n",
    "def select_best_optimization_strategy(evaluation_results: Dict[str, List[float]], best_params: Dict[str, Dict[str, Any]]) -> Tuple[Dict[str, Any], float]:\n",
    "    \"\"\"\n",
    "    Chooses the best optimization strategy based on the highest mean accuracy from evaluation results.\n",
    "\n",
    "    Parameters:\n",
    "        evaluation_results (Dict[str, List[float]]): A dictionary where keys are the statistics used to\n",
    "                                                     optimize parameters (e.g., median, mean, Q1, Q3, max)\n",
    "                                                     and values are lists of accuracies.\n",
    "        best_params (Dict[str, Dict[str, Any]]): A dictionary containing the best parameters for each\n",
    "                                                 optimization strategy.\n",
    "\n",
    "    Returns:\n",
    "        Tuple[Dict[str, Any], float]: A tuple containing the best parameters and the corresponding mean accuracy.\n",
    "    \"\"\"\n",
    "    # Calculate the mean accuracy for each optimization strategy\n",
    "    mean_accuracies = {stat: np.mean(acc) for stat, acc in evaluation_results.items()}\n",
    "    \n",
    "    # Determine the optimization strategy with the highest mean accuracy\n",
    "    best_stat = max(mean_accuracies, key=mean_accuracies.get)\n",
    "    best_accuracy = mean_accuracies[best_stat]\n",
    "    best_parameters = best_params[best_stat]\n",
    "\n",
    "    return (best_parameters, best_accuracy)"
   ]
  },
  {
   "cell_type": "code",
   "execution_count": 50,
   "id": "6c93cda8-eaac-4268-b467-0dae53dd37d9",
   "metadata": {
    "tags": []
   },
   "outputs": [
    {
     "name": "stdout",
     "output_type": "stream",
     "text": [
      "Best Strategy Parameters: {'max_depth': 3, 'max_features': 'log2', 'min_samples_leaf': 4, 'min_samples_split': 5, 'n_estimators': 1000}\n",
      "Best Mean Accuracy: 0.6223529411764706\n"
     ]
    }
   ],
   "source": [
    "best_strategy, best_mean_accuracy = select_best_optimization_strategy(evaluation_results, best_params)\n",
    "print(\"Best Strategy Parameters:\", best_strategy)\n",
    "print(\"Best Mean Accuracy:\", best_mean_accuracy)"
   ]
  },
  {
   "cell_type": "code",
   "execution_count": 51,
   "id": "7b7093db-ab62-4afc-aaa5-b04f662ee133",
   "metadata": {
    "tags": []
   },
   "outputs": [],
   "source": [
    "import pandas as pd\n",
    "import numpy as np\n",
    "from sklearn.model_selection import train_test_split\n",
    "from sklearn.ensemble import RandomForestClassifier\n",
    "from sklearn.metrics import accuracy_score\n",
    "import joblib\n",
    "import os\n",
    "from typing import Dict, Any\n",
    "\n",
    "def train_final_model(data: pd.DataFrame, best_strategy: Dict[str, Any], save_path: str) -> None:\n",
    "    \"\"\"\n",
    "    Trains a RandomForest model using the best strategy parameters and saves the model to the specified path.\n",
    "\n",
    "    Parameters:\n",
    "        data (pd.DataFrame): The complete dataset including features and the target.\n",
    "        best_strategy (Dict[str, Any]): The best parameters for training the RandomForest model.\n",
    "        save_path (str): The file path where the trained model will be saved.\n",
    "\n",
    "    Returns:\n",
    "        None\n",
    "    \"\"\"\n",
    "    # Split the data into features and target\n",
    "    X = data.drop('cancer', axis=1)\n",
    "    y = data['cancer']\n",
    "    \n",
    "    # Split the data into training and testing sets\n",
    "    X_train, X_test, y_train, y_test = train_test_split(X, y, test_size=0.20, random_state=42)\n",
    "    \n",
    "    # Initialize the RandomForest model with the best parameters\n",
    "    model = RandomForestClassifier(**best_strategy)\n",
    "    \n",
    "    # Train the model\n",
    "    model.fit(X_train, y_train)\n",
    "    \n",
    "    accuracy = accuracy_score(y_test, model.predict(X_test))\n",
    "    print(f\"Accuracy of the final model: {accuracy:.2f}\")\n",
    "    \n",
    "    # Ensure the directory exists\n",
    "    os.makedirs(os.path.dirname(save_path), exist_ok=True)\n",
    "    \n",
    "    # Save the trained model\n",
    "    joblib.dump(model, save_path)\n",
    "    print(f\"Model saved to {save_path}\")\n",
    "\n",
    "# Example usage:\n",
    "# data = pd.read_csv('path_to_your_data.csv')\n",
    "# best_strategy = {'n_estimators': 150, 'max_depth': 10, 'random_state': 42}\n",
    "# save_path = 'path_to_save_your_model/final_model.pkl'\n",
    "# train_final_model(data, best_strategy, save_path)"
   ]
  },
  {
   "cell_type": "code",
   "execution_count": 52,
   "id": "2310d4a5-5df2-4b2d-af31-16c2acab835b",
   "metadata": {
    "tags": []
   },
   "outputs": [
    {
     "name": "stdout",
     "output_type": "stream",
     "text": [
      "Accuracy of the final model: 0.67\n",
      "Model saved to features/training/final_model\n"
     ]
    }
   ],
   "source": [
    "train_final_model(data, best_strategy, \"features/training/final_model\")"
   ]
  }
 ],
 "metadata": {
  "kernelspec": {
   "display_name": "Python 3 (ipykernel)",
   "language": "python",
   "name": "python3"
  },
  "language_info": {
   "codemirror_mode": {
    "name": "ipython",
    "version": 3
   },
   "file_extension": ".py",
   "mimetype": "text/x-python",
   "name": "python",
   "nbconvert_exporter": "python",
   "pygments_lexer": "ipython3",
   "version": "3.11.5"
  }
 },
 "nbformat": 4,
 "nbformat_minor": 5
}
