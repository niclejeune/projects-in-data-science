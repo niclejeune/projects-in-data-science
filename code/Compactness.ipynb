{
 "cells": [
  {
   "cell_type": "code",
   "execution_count": 5,
   "id": "62949d1a",
   "metadata": {},
   "outputs": [
    {
     "name": "stdout",
     "output_type": "stream",
     "text": [
      "Compactness: 0.9065188142600549\n"
     ]
    }
   ],
   "source": [
    "import numpy as np\n",
    "from skimage import io\n",
    "from skimage.measure import label, regionprops\n",
    "import math\n",
    "\n",
    "def calculate_compactness(mask_path):\n",
    "    # Load the mask\n",
    "    mask = io.imread(mask_path)\n",
    "    if mask.ndim > 2:\n",
    "        mask = mask[:, :, 0]  # Convert to grayscale if not already\n",
    "\n",
    "    # Ensure mask is binary\n",
    "    mask = (mask > 0).astype(np.uint8)\n",
    "\n",
    "    # Label the image (in case there are multiple disjoint regions, consider the largest)\n",
    "    labeled_mask = label(mask)\n",
    "    regions = regionprops(labeled_mask)\n",
    "    if not regions:\n",
    "        return None  # No regions found\n",
    "\n",
    "    # Assuming the largest region is the lesion of interest\n",
    "    largest_region = max(regions, key=lambda x: x.area)\n",
    "    area = largest_region.area\n",
    "    perimeter = largest_region.perimeter\n",
    "\n",
    "    # Calculate compactness\n",
    "    compactness = 4 * math.pi * area / (perimeter ** 2)\n",
    "    return compactness\n",
    "\n",
    "# Example usage:\n",
    "mask_path = 'XXXXXXXXX.png'  # Update this path to your mask image\n",
    "compactness = calculate_compactness(mask_path)\n",
    "if compactness is not None:\n",
    "    print(f\"Compactness: {compactness}\")\n",
    "else:\n",
    "    print(\"No lesion found in the mask.\")\n"
   ]
  },
  {
   "cell_type": "code",
   "execution_count": null,
   "id": "2d38da20",
   "metadata": {},
   "outputs": [],
   "source": []
  },
  {
   "cell_type": "code",
   "execution_count": null,
   "id": "b538d308",
   "metadata": {},
   "outputs": [],
   "source": []
  }
 ],
 "metadata": {
  "kernelspec": {
   "display_name": "Python 3 (ipykernel)",
   "language": "python",
   "name": "python3"
  },
  "language_info": {
   "codemirror_mode": {
    "name": "ipython",
    "version": 3
   },
   "file_extension": ".py",
   "mimetype": "text/x-python",
   "name": "python",
   "nbconvert_exporter": "python",
   "pygments_lexer": "ipython3",
   "version": "3.11.4"
  }
 },
 "nbformat": 4,
 "nbformat_minor": 5
}
