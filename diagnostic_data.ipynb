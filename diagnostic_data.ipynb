{
 "cells": [
  {
   "cell_type": "code",
   "execution_count": 2,
   "id": "3d355db9-5935-488e-8144-5b7c21c7f0ad",
   "metadata": {
    "tags": []
   },
   "outputs": [],
   "source": [
    "import csv\n",
    "import os\n",
    "import json\n",
    "\n",
    "def read_csv_metadata(file_path):\n",
    "    \"\"\"Reads CSV metadata and returns a dictionary mapping img_id to diagnostic.\"\"\"\n",
    "    diagnostic_data = {}\n",
    "    with open(file_path, newline='') as csvfile:\n",
    "        reader = csv.DictReader(csvfile)\n",
    "        for row in reader:\n",
    "            img_id = row['img_id'].replace('.png', '')  # Remove '.png' from img_id\n",
    "            diagnostic_data[img_id] = row['diagnostic']\n",
    "    return diagnostic_data\n",
    "\n",
    "def get_diagnostic(file_path, diagnostic_data):\n",
    "    \"\"\"Extracts the file identifier and returns its diagnostic from the data dictionary.\"\"\"\n",
    "    file_id = file_path.split('/')[-1].replace('_mask.png', '')\n",
    "    return diagnostic_data.get(file_id, \"Diagnostic not found\")\n",
    "\n",
    "def save_to_json(data, file_path):\n",
    "    \"\"\"Saves the given data to a JSON file.\"\"\"\n",
    "    with open(file_path, 'w') as jsonfile:\n",
    "        json.dump(data, jsonfile, indent=4)\n",
    "\n",
    "csv_file_path = 'additional_files/metadata.csv'\n",
    "json_file_path = 'raw_data/diagnostic.json'\n",
    "\n",
    "# Read the CSV and store the data\n",
    "diagnostic_data = read_csv_metadata(csv_file_path)\n",
    "\n",
    "# Dictionary to store diagnostics extracted from files\n",
    "file_diagnostics = {}\n",
    "\n",
    "directory = \"data/masks\"\n",
    "for filename in os.listdir(directory):\n",
    "    f = os.path.join(directory, filename)\n",
    "    if os.path.isfile(f):\n",
    "        diagnostic_value = get_diagnostic(f, diagnostic_data)\n",
    "        file_diagnostics[f] = diagnostic_value\n",
    "\n",
    "save_to_json(file_diagnostics, json_file_path)"
   ]
  }
 ],
 "metadata": {
  "kernelspec": {
   "display_name": "Python 3 (ipykernel)",
   "language": "python",
   "name": "python3"
  },
  "language_info": {
   "codemirror_mode": {
    "name": "ipython",
    "version": 3
   },
   "file_extension": ".py",
   "mimetype": "text/x-python",
   "name": "python",
   "nbconvert_exporter": "python",
   "pygments_lexer": "ipython3",
   "version": "3.11.5"
  }
 },
 "nbformat": 4,
 "nbformat_minor": 5
}
